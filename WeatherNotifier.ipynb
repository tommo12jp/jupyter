{
 "cells": [
  {
   "cell_type": "code",
   "execution_count": 35,
   "metadata": {
    "scrolled": true
   },
   "outputs": [
    {
     "name": "stdout",
     "output_type": "stream",
     "text": [
      "{'pinpointLocations': [{'link': 'http://weather.livedoor.com/area/forecast/2810000', 'name': '神戸市'}, {'link': 'http://weather.livedoor.com/area/forecast/2820100', 'name': '姫路市'}, {'link': 'http://weather.livedoor.com/area/forecast/2820200', 'name': '尼崎市'}, {'link': 'http://weather.livedoor.com/area/forecast/2820300', 'name': '明石市'}, {'link': 'http://weather.livedoor.com/area/forecast/2820400', 'name': '西宮市'}, {'link': 'http://weather.livedoor.com/area/forecast/2820500', 'name': '洲本市'}, {'link': 'http://weather.livedoor.com/area/forecast/2820600', 'name': '芦屋市'}, {'link': 'http://weather.livedoor.com/area/forecast/2820700', 'name': '伊丹市'}, {'link': 'http://weather.livedoor.com/area/forecast/2820800', 'name': '相生市'}, {'link': 'http://weather.livedoor.com/area/forecast/2821000', 'name': '加古川市'}, {'link': 'http://weather.livedoor.com/area/forecast/2821200', 'name': '赤穂市'}, {'link': 'http://weather.livedoor.com/area/forecast/2821300', 'name': '西脇市'}, {'link': 'http://weather.livedoor.com/area/forecast/2821400', 'name': '宝塚市'}, {'link': 'http://weather.livedoor.com/area/forecast/2821500', 'name': '三木市'}, {'link': 'http://weather.livedoor.com/area/forecast/2821600', 'name': '高砂市'}, {'link': 'http://weather.livedoor.com/area/forecast/2821700', 'name': '川西市'}, {'link': 'http://weather.livedoor.com/area/forecast/2821800', 'name': '小野市'}, {'link': 'http://weather.livedoor.com/area/forecast/2821900', 'name': '三田市'}, {'link': 'http://weather.livedoor.com/area/forecast/2822000', 'name': '加西市'}, {'link': 'http://weather.livedoor.com/area/forecast/2822100', 'name': '篠山市'}, {'link': 'http://weather.livedoor.com/area/forecast/2822300', 'name': '丹波市'}, {'link': 'http://weather.livedoor.com/area/forecast/2822400', 'name': '南あわじ市'}, {'link': 'http://weather.livedoor.com/area/forecast/2822600', 'name': '淡路市'}, {'link': 'http://weather.livedoor.com/area/forecast/2822700', 'name': '宍粟市'}, {'link': 'http://weather.livedoor.com/area/forecast/2822800', 'name': '加東市'}, {'link': 'http://weather.livedoor.com/area/forecast/2822900', 'name': 'たつの市'}, {'link': 'http://weather.livedoor.com/area/forecast/2830100', 'name': '猪名川町'}, {'link': 'http://weather.livedoor.com/area/forecast/2836500', 'name': '多可町'}, {'link': 'http://weather.livedoor.com/area/forecast/2838100', 'name': '稲美町'}, {'link': 'http://weather.livedoor.com/area/forecast/2838200', 'name': '播磨町'}, {'link': 'http://weather.livedoor.com/area/forecast/2844200', 'name': '市川町'}, {'link': 'http://weather.livedoor.com/area/forecast/2844300', 'name': '福崎町'}, {'link': 'http://weather.livedoor.com/area/forecast/2844600', 'name': '神河町'}, {'link': 'http://weather.livedoor.com/area/forecast/2846400', 'name': '太子町'}, {'link': 'http://weather.livedoor.com/area/forecast/2848100', 'name': '上郡町'}, {'link': 'http://weather.livedoor.com/area/forecast/2850100', 'name': '佐用町'}], 'link': 'http://weather.livedoor.com/area/forecast/280010', 'forecasts': [{'dateLabel': '今日', 'telop': '曇時々雨', 'date': '2020-05-06', 'temperature': {'min': {'celsius': '18', 'fahrenheit': '64.4'}, 'max': {'celsius': '23', 'fahrenheit': '73.4'}}, 'image': {'width': 50, 'url': 'http://weather.livedoor.com/img/icon/10.gif', 'title': '曇時々雨', 'height': 31}}, {'dateLabel': '明日', 'telop': '曇のち晴', 'date': '2020-05-07', 'temperature': {'min': None, 'max': None}, 'image': {'width': 50, 'url': 'http://weather.livedoor.com/img/icon/12.gif', 'title': '曇のち晴', 'height': 31}}], 'location': {'city': '神戸', 'area': '近畿', 'prefecture': '兵庫県'}, 'publicTime': '2020-05-05T19:00:00+0900', 'copyright': {'provider': [{'link': 'http://tenki.jp/', 'name': '日本気象協会'}], 'link': 'http://weather.livedoor.com/', 'title': '(C) LINE Corporation', 'image': {'width': 118, 'link': 'http://weather.livedoor.com/', 'url': 'http://weather.livedoor.com/img/cmn/livedoor.gif', 'title': 'livedoor 天気情報', 'height': 26}}, 'title': '兵庫県 神戸 の天気', 'description': {'text': ' 兵庫県は、気圧の谷の影響で曇りとなっています。\\n \\n 5日の兵庫県は、気圧の谷の影響で曇りで、雨の降る所があるでしょう。\\n\\n 6日の兵庫県は、気圧の谷や湿った空気の影響でおおむね曇り、北部では朝から昼前、南部では昼過ぎに雨が降る見込みです。夕方にかけては雷を伴う所もあるでしょう。', 'publicTime': '2020-05-05T18:48:00+0900'}}\n"
     ]
    }
   ],
   "source": [
    "import requests as r\n",
    "\n",
    "# set url and get data\n",
    "url = 'http://weather.livedoor.com/forecast/webservice/json/v1?city=280010' \n",
    "\n",
    "payload = {'city':'280010'}\n",
    "\n",
    "tenki_data = r.get(url, params=payload).json()\n",
    "\n",
    "print(tenki_data)"
   ]
  },
  {
   "cell_type": "code",
   "execution_count": 36,
   "metadata": {},
   "outputs": [
    {
     "data": {
      "text/plain": [
       "dict_keys(['pinpointLocations', 'link', 'forecasts', 'location', 'publicTime', 'copyright', 'title', 'description'])"
      ]
     },
     "execution_count": 36,
     "metadata": {},
     "output_type": "execute_result"
    }
   ],
   "source": [
    "tenki_data.keys()"
   ]
  },
  {
   "cell_type": "code",
   "execution_count": 37,
   "metadata": {},
   "outputs": [],
   "source": [
    "#tenki_dataのforecastsから今日のデータを取得し、天気と日付を取得する\n",
    "tenki = tenki_data[\"forecasts\"][0][\"telop\"]\n",
    "date = tenki_data[\"forecasts\"][0][\"date\"]"
   ]
  },
  {
   "cell_type": "code",
   "execution_count": 39,
   "metadata": {},
   "outputs": [],
   "source": [
    "import requests\n",
    "#Linenotifyのアクセストークンを使ってメッセージを送る\n",
    "\n",
    "url = \"https://notify-api.line.me/api/notify\"\n",
    "access_token = 'L2Jug83EWLsnbe8mRe70gACLIvSKhO8IXxJlJHL5ugv'\n",
    "headers = {'Authorization': 'Bearer ' + access_token}\n",
    "\n",
    "#メッセージ作成\n",
    "message = '{}の天気は{}'.format(date,tenki)\n",
    "\n",
    "payload = {'message': message}\n",
    "r = requests.post(url, headers=headers, params=payload,)"
   ]
  }
 ],
 "metadata": {
  "kernelspec": {
   "display_name": "Python 3",
   "language": "python",
   "name": "python3"
  },
  "language_info": {
   "codemirror_mode": {
    "name": "ipython",
    "version": 3
   },
   "file_extension": ".py",
   "mimetype": "text/x-python",
   "name": "python",
   "nbconvert_exporter": "python",
   "pygments_lexer": "ipython3",
   "version": "3.7.3"
  }
 },
 "nbformat": 4,
 "nbformat_minor": 2
}
