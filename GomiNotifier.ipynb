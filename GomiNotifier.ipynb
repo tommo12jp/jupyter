{
 "cells": [
  {
   "cell_type": "code",
   "execution_count": 48,
   "metadata": {},
   "outputs": [
    {
     "name": "stdout",
     "output_type": "stream",
     "text": [
      "2020 5\n",
      "https://www.nishi.or.jp/homepage/gomicalendar/calendar.html?date=2020-5&id=78\n"
     ]
    }
   ],
   "source": [
    "#処理日付取得用\n",
    "import datetime\n",
    "dt_now = datetime.datetime.now()\n",
    "year = dt_now.year\n",
    "month = dt_now.month\n",
    "print(year, month)\n",
    "ulr = 'https://www.nishi.or.jp/homepage/gomicalendar/calendar.html?date={}-{}&id=78'.format(year, month)\n",
    "print(ulr)"
   ]
  },
  {
   "cell_type": "code",
   "execution_count": 52,
   "metadata": {
    "scrolled": true
   },
   "outputs": [
    {
     "name": "stdout",
     "output_type": "stream",
     "text": [
      "['町名選択に戻る', '', '上甲子園1丁目～5丁目2020 年 5 月', '', '1', 'もやすごみ', '2', '3', '4', 'ペットボトル', '5', 'もやすごみ', '6', '資源B(雑誌等)', '7', 'もやさないごみ', 'その他プラ', '8', 'もやすごみ', '9', '10', '11', '12', 'もやすごみ', '13', '14', 'もやさないごみ', 'その他プラ', '15', 'もやすごみ', '16', '17', '18', 'ペットボトル', '19', 'もやすごみ', '20', '資源B(雑誌等)', '21', 'もやさないごみ', 'その他プラ', '22', 'もやすごみ', '23', '24', '25', '26', 'もやすごみ', '27', '資源A(新聞等)', '28', 'もやさないごみ', 'その他プラ', '29', 'もやすごみ', '30', '31', '1（金）', 'もやすごみ', '2（土）', '3（日）', '4（月）', 'ペットボトル', '5（火）', 'もやすごみ', '6（水）', '資源B(雑誌等)', '7（木）', 'もやさないごみ', 'その他プラ', '8（金）', 'もやすごみ', '9（土）', '10（日）', '11（月）', '12（火）', 'もやすごみ', '13（水）', '14（木）', 'もやさないごみ', 'その他プラ', '15（金）', 'もやすごみ', '16（土）', '17（日）', '18（月）', 'ペットボトル', '19（火）', 'もやすごみ', '20（水）', '資源B(雑誌等)', '21（木）', 'もやさないごみ', 'その他プラ', '22（金）', 'もやすごみ', '23（土）', '24（日）', '25（月）', '26（火）', 'もやすごみ', '27（水）', '資源A(新聞等)', '28（木）', 'もやさないごみ', 'その他プラ', '29（金）', 'もやすごみ', '30（土）', '31（日）', 'カレンダーを印刷 年間カレンダー', '祝祭日（1月、12月を除く）は通常通り収集いたします。1月、12月の収集については市政ニュース等でもお知らせします。', '携帯版ごみカレンダーQRコード', '（2017年4月1日更新\\u3000※最新のものをご活用ください）', '© Nishinomiya City All rights reserved.']\n"
     ]
    }
   ],
   "source": [
    "import requests\n",
    "from bs4 import BeautifulSoup\n",
    "import datetime\n",
    "\n",
    "dt_now = datetime.datetime.now()\n",
    "year = dt_now.year\n",
    "month = dt_now.month\n",
    "date = dt_now.day\n",
    "ulr = 'https://www.nishi.or.jp/homepage/gomicalendar/calendar.html?date={}-{}&id=78'.format(year, month)\n",
    "\n",
    "r = requests.get(ulr)\n",
    "soup = BeautifulSoup(r.content, \"html.parser\")\n",
    "\n",
    "#取得結果からPタグを抽出する\n",
    "items = soup.find_all(\"p\")\n",
    "\n",
    "#itemlistsを初期化する\n",
    "itemlists = []\n",
    "\n",
    "#Pタグの値だけを取り出してリストに格納する\n",
    "for item in items:\n",
    "    itemlists.append(item.text)\n",
    "\n",
    "print(itemlists)"
   ]
  },
  {
   "cell_type": "code",
   "execution_count": 53,
   "metadata": {
    "scrolled": false
   },
   "outputs": [
    {
     "name": "stdout",
     "output_type": "stream",
     "text": [
      "取得対象の日付は 5\n",
      "date_index 10\n",
      "gomi_shurui_i 11\n",
      "gomi_shurui もやすごみ\n"
     ]
    }
   ],
   "source": [
    "print('取得対象の日付は', date)\n",
    "\n",
    "#日付の値からインデックスを取得する\n",
    "date_index = itemlists.index(str(date))\n",
    "print('date_index' , date_index)\n",
    "\n",
    "\n",
    "#ごみ種類取得用インデックスを作成\n",
    "gomi_shurui_i = date_index+1\n",
    "print('gomi_shurui_i', gomi_shurui_i)\n",
    "\n",
    "#ごみ種類取得\n",
    "gomi_shurui = 'ごみの日じゃない'\n",
    "gomi_temp = ''\n",
    "\n",
    "#インデックスの一つ後のitemlistが翌日の日付かどうかでごみ種類を取得するか判定する\n",
    "while itemlists[gomi_shurui_i] != str(date+1):\n",
    "    gomi_temp += itemlists[gomi_shurui_i]\n",
    "    gomi_shurui_i += 1\n",
    "\n",
    "#gomi_tempが空じゃない場合、ごみの日なのでgomi_shuruiを上書きする\n",
    "if gomi_temp != '':\n",
    "    gomi_shurui = gomi_temp\n",
    "\n",
    "print('gomi_shurui', gomi_shurui)"
   ]
  },
  {
   "cell_type": "markdown",
   "metadata": {},
   "source": [
    "参考\n",
    "https://qiita.com/moriita/items/5b199ac6b14ceaa4f7c9\n",
    "https://notify-bot.line.me/my/"
   ]
  },
  {
   "cell_type": "code",
   "execution_count": 54,
   "metadata": {},
   "outputs": [],
   "source": [
    "import requests\n",
    "#Linenotifyのアクセストークンを使ってメッセージを送る\n",
    "\n",
    "url = \"https://notify-api.line.me/api/notify\"\n",
    "access_token = 'L2Jug83EWLsnbe8mRe70gACLIvSKhO8IXxJlJHL5ugv'\n",
    "headers = {'Authorization': 'Bearer ' + access_token}\n",
    "\n",
    "#メッセージ作成\n",
    "message = '{}日は{}'.format(date,gomi_shurui)\n",
    "\n",
    "payload = {'message': message}\n",
    "r = requests.post(url, headers=headers, params=payload,)"
   ]
  }
 ],
 "metadata": {
  "kernelspec": {
   "display_name": "Python 3",
   "language": "python",
   "name": "python3"
  },
  "language_info": {
   "codemirror_mode": {
    "name": "ipython",
    "version": 3
   },
   "file_extension": ".py",
   "mimetype": "text/x-python",
   "name": "python",
   "nbconvert_exporter": "python",
   "pygments_lexer": "ipython3",
   "version": "3.7.3"
  }
 },
 "nbformat": 4,
 "nbformat_minor": 2
}
